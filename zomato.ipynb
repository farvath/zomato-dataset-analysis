{
 "cells": [
  {
   "cell_type": "markdown",
   "id": "00637583-b903-4126-bed3-303a3f9a0123",
   "metadata": {
    "tags": []
   },
   "source": [
    "IMPORTING LIBRARYS\n",
    "="
   ]
  },
  {
   "cell_type": "code",
   "execution_count": 109,
   "id": "d1ce7406-1251-4191-9792-fbadc628159b",
   "metadata": {
    "tags": []
   },
   "outputs": [],
   "source": [
    "import pandas as pd\n",
    "import numpy as np\n",
    "import matplotlib.pyplot as plt\n",
    "import seaborn as sns"
   ]
  },
  {
   "cell_type": "code",
   "execution_count": 110,
   "id": "9aefc8c2-b469-496d-899b-241d24ceedf3",
   "metadata": {
    "tags": []
   },
   "outputs": [
    {
     "name": "stdout",
     "output_type": "stream",
     "text": [
      "4SF20CI021\n"
     ]
    }
   ],
   "source": [
    "df = pd.read_csv('zomato.csv')\n",
    "df.head(2)\n",
    "print('4SF20CI021')"
   ]
  },
  {
   "cell_type": "code",
   "execution_count": 111,
   "id": "ce92227c-806d-4cbe-b934-7b93f076781f",
   "metadata": {
    "tags": []
   },
   "outputs": [
    {
     "data": {
      "text/plain": [
       "Index(['url', 'address', 'name', 'online_order', 'book_table', 'rate', 'votes',\n",
       "       'phone', 'location', 'rest_type', 'dish_liked', 'cuisines',\n",
       "       'approx_cost(for two people)', 'reviews_list', 'menu_item',\n",
       "       'listed_in(type)', 'listed_in(city)'],\n",
       "      dtype='object')"
      ]
     },
     "execution_count": 111,
     "metadata": {},
     "output_type": "execute_result"
    }
   ],
   "source": [
    "df.columns"
   ]
  },
  {
   "cell_type": "markdown",
   "id": "1682069b-20c9-47e0-9eb0-89d59fb0dd7d",
   "metadata": {},
   "source": [
    "DROPPING SOME UNWANTED COLUMNS\n",
    "="
   ]
  },
  {
   "cell_type": "code",
   "execution_count": 112,
   "id": "aad41239-90b7-4caf-960b-152e7365ba38",
   "metadata": {
    "tags": []
   },
   "outputs": [],
   "source": [
    "df = df.drop(['url', 'address', 'phone', 'menu_item', 'dish_liked', 'reviews_list','listed_in(city)'], axis = 1)"
   ]
  },
  {
   "cell_type": "code",
   "execution_count": 113,
   "id": "1892b126-079b-48bc-a66b-1226e6dceee1",
   "metadata": {
    "tags": []
   },
   "outputs": [
    {
     "data": {
      "text/html": [
       "<div>\n",
       "<style scoped>\n",
       "    .dataframe tbody tr th:only-of-type {\n",
       "        vertical-align: middle;\n",
       "    }\n",
       "\n",
       "    .dataframe tbody tr th {\n",
       "        vertical-align: top;\n",
       "    }\n",
       "\n",
       "    .dataframe thead th {\n",
       "        text-align: right;\n",
       "    }\n",
       "</style>\n",
       "<table border=\"1\" class=\"dataframe\">\n",
       "  <thead>\n",
       "    <tr style=\"text-align: right;\">\n",
       "      <th></th>\n",
       "      <th>name</th>\n",
       "      <th>online_order</th>\n",
       "      <th>book_table</th>\n",
       "      <th>rate</th>\n",
       "      <th>votes</th>\n",
       "      <th>location</th>\n",
       "      <th>rest_type</th>\n",
       "      <th>cuisines</th>\n",
       "      <th>approx_cost(for two people)</th>\n",
       "      <th>listed_in(type)</th>\n",
       "    </tr>\n",
       "  </thead>\n",
       "  <tbody>\n",
       "    <tr>\n",
       "      <th>0</th>\n",
       "      <td>Jalsa</td>\n",
       "      <td>Yes</td>\n",
       "      <td>Yes</td>\n",
       "      <td>4.1/5</td>\n",
       "      <td>775</td>\n",
       "      <td>Banashankari</td>\n",
       "      <td>Casual Dining</td>\n",
       "      <td>North Indian, Mughlai, Chinese</td>\n",
       "      <td>800</td>\n",
       "      <td>Buffet</td>\n",
       "    </tr>\n",
       "    <tr>\n",
       "      <th>1</th>\n",
       "      <td>Spice Elephant</td>\n",
       "      <td>Yes</td>\n",
       "      <td>No</td>\n",
       "      <td>4.1/5</td>\n",
       "      <td>787</td>\n",
       "      <td>Banashankari</td>\n",
       "      <td>Casual Dining</td>\n",
       "      <td>Chinese, North Indian, Thai</td>\n",
       "      <td>800</td>\n",
       "      <td>Buffet</td>\n",
       "    </tr>\n",
       "  </tbody>\n",
       "</table>\n",
       "</div>"
      ],
      "text/plain": [
       "             name online_order book_table   rate  votes      location  \\\n",
       "0           Jalsa          Yes        Yes  4.1/5    775  Banashankari   \n",
       "1  Spice Elephant          Yes         No  4.1/5    787  Banashankari   \n",
       "\n",
       "       rest_type                        cuisines approx_cost(for two people)  \\\n",
       "0  Casual Dining  North Indian, Mughlai, Chinese                         800   \n",
       "1  Casual Dining     Chinese, North Indian, Thai                         800   \n",
       "\n",
       "  listed_in(type)  \n",
       "0          Buffet  \n",
       "1          Buffet  "
      ]
     },
     "execution_count": 113,
     "metadata": {},
     "output_type": "execute_result"
    }
   ],
   "source": [
    "df.head(2)"
   ]
  },
  {
   "cell_type": "code",
   "execution_count": 114,
   "id": "8741e760-c9e4-463b-aade-538a92a6862d",
   "metadata": {
    "tags": []
   },
   "outputs": [
    {
     "name": "stdout",
     "output_type": "stream",
     "text": [
      "<class 'pandas.core.frame.DataFrame'>\n",
      "RangeIndex: 51717 entries, 0 to 51716\n",
      "Data columns (total 10 columns):\n",
      " #   Column                       Non-Null Count  Dtype \n",
      "---  ------                       --------------  ----- \n",
      " 0   name                         51717 non-null  object\n",
      " 1   online_order                 51717 non-null  object\n",
      " 2   book_table                   51717 non-null  object\n",
      " 3   rate                         43942 non-null  object\n",
      " 4   votes                        51717 non-null  int64 \n",
      " 5   location                     51696 non-null  object\n",
      " 6   rest_type                    51490 non-null  object\n",
      " 7   cuisines                     51672 non-null  object\n",
      " 8   approx_cost(for two people)  51371 non-null  object\n",
      " 9   listed_in(type)              51717 non-null  object\n",
      "dtypes: int64(1), object(9)\n",
      "memory usage: 3.9+ MB\n",
      "4SF20CI021\n"
     ]
    }
   ],
   "source": [
    "df.info()\n",
    "print('4SF20CI021')"
   ]
  },
  {
   "cell_type": "code",
   "execution_count": 115,
   "id": "619d9729-7888-4b31-a72e-3a5c9e7c76f7",
   "metadata": {
    "tags": []
   },
   "outputs": [
    {
     "data": {
      "text/plain": [
       "(51717, 10)"
      ]
     },
     "execution_count": 115,
     "metadata": {},
     "output_type": "execute_result"
    }
   ],
   "source": [
    "df.shape"
   ]
  },
  {
   "cell_type": "code",
   "execution_count": 116,
   "id": "9113d4c3-bbaf-4a77-a5f5-1755f4e79418",
   "metadata": {
    "tags": []
   },
   "outputs": [
    {
     "data": {
      "text/plain": [
       "(30958, 10)"
      ]
     },
     "execution_count": 116,
     "metadata": {},
     "output_type": "execute_result"
    }
   ],
   "source": [
    "df.drop_duplicates(inplace = True)\n",
    "df.dropna(inplace = True)\n",
    "df.shape"
   ]
  },
  {
   "cell_type": "markdown",
   "id": "3abd22c8-0026-43af-9cf3-37335dd83812",
   "metadata": {
    "tags": []
   },
   "source": [
    "WE CAN OBSERVE THAT THE NUMBER OF ROWS IS REDUCED THAT MEANS THERE WERE DUPLICATE ROWS HENCE THEY ARE DROPPED(51717 --> 51609)\n",
    "=\n",
    "NOW LETS US CLEAN THE EACH COLUMN  IN THE DATSET STARTING WITH RATE COLUMN\n",
    "="
   ]
  },
  {
   "cell_type": "code",
   "execution_count": 117,
   "id": "dedae5ac-df1b-4b17-9d12-83cc660be165",
   "metadata": {
    "tags": []
   },
   "outputs": [
    {
     "name": "stdout",
     "output_type": "stream",
     "text": [
      "4SF20CI021\n"
     ]
    }
   ],
   "source": [
    "df['rate'].unique()\n",
    "print('4SF20CI021')"
   ]
  },
  {
   "cell_type": "markdown",
   "id": "092c2b89-4340-4db2-b94a-7c3e3f0e16c0",
   "metadata": {},
   "source": [
    "WE CAN OBSERVE THAT THE VALUES IS IN FLOAT , BUT SOME ARE NOT HENCE WE WRITE A FUNCTION handlerate() TO CONVERT IT INTO FLOAT VALUES. ALSO, SET THE RATINGS \"NEW\" AS MEAN.\n",
    "="
   ]
  },
  {
   "cell_type": "code",
   "execution_count": 118,
   "id": "fb6983af-f983-4a30-bd70-ae8dbf947cea",
   "metadata": {
    "tags": []
   },
   "outputs": [
    {
     "name": "stdout",
     "output_type": "stream",
     "text": [
      "4SF20CI021\n"
     ]
    }
   ],
   "source": [
    "def handlerate(value):\n",
    "    if(value=='NEW' or value=='-'):\n",
    "        return np.nan\n",
    "    else:\n",
    "        value = str(value).split('/')\n",
    "        value = value[0]\n",
    "        return float(value)\n",
    "    \n",
    "df['rate'] = df['rate'].apply(handlerate)\n",
    "print('4SF20CI021')"
   ]
  },
  {
   "cell_type": "code",
   "execution_count": 119,
   "id": "32c9b295-2bf8-4c33-90fa-a86e79d3d71a",
   "metadata": {
    "tags": []
   },
   "outputs": [
    {
     "data": {
      "text/plain": [
       "array([4.1       , 3.8       , 3.7       , 3.6       , 4.6       ,\n",
       "       4.        , 4.2       , 3.9       , 3.1       , 3.        ,\n",
       "       3.2       , 3.3       , 2.8       , 4.4       , 4.3       ,\n",
       "       3.73284972, 2.9       , 3.5       , 2.6       , 3.4       ,\n",
       "       4.5       , 2.5       , 2.7       , 4.7       , 2.4       ,\n",
       "       2.2       , 2.3       , 4.8       , 4.9       , 2.1       ,\n",
       "       2.        , 1.8       ])"
      ]
     },
     "execution_count": 119,
     "metadata": {},
     "output_type": "execute_result"
    }
   ],
   "source": [
    "df['rate'].fillna(df['rate'].mean(), inplace = True)\n",
    "df['rate'].unique()"
   ]
  },
  {
   "cell_type": "code",
   "execution_count": 120,
   "id": "33e40d22-f080-4eb0-ab1e-6af20d200574",
   "metadata": {
    "tags": []
   },
   "outputs": [],
   "source": [
    "df.rename(columns = {'approx_cost(for two people)':'Cost2plates', 'listed_in(type)':'Type'}, inplace = True)"
   ]
  },
  {
   "cell_type": "markdown",
   "id": "d1e70fc1-3a2d-464f-a1e0-e4d0c9ce73d5",
   "metadata": {},
   "source": [
    "LETS CLEAN THE NEXT COLUMN 'LOCATION' SINCE EVERYHTING LOOKS FINE...LETS MOVE TO THE NEXT COLUMN 'Cost2plates'\n",
    "="
   ]
  },
  {
   "cell_type": "code",
   "execution_count": 121,
   "id": "7ecea7a8-3e74-47ae-ada4-be7a5e4cf481",
   "metadata": {
    "tags": []
   },
   "outputs": [
    {
     "name": "stdout",
     "output_type": "stream",
     "text": [
      "4SF20CI021\n"
     ]
    }
   ],
   "source": [
    "df['location'].unique()\n",
    "print('4SF20CI021')"
   ]
  },
  {
   "cell_type": "code",
   "execution_count": 122,
   "id": "5a0ed0a0-faea-4332-8477-b4013ca54da5",
   "metadata": {
    "tags": []
   },
   "outputs": [
    {
     "data": {
      "text/plain": [
       "array(['800', '300', '600', '700', '550', '500', '450', '650', '400',\n",
       "       '900', '200', '750', '150', '850', '100', '1,200', '350', '250',\n",
       "       '950', '1,000', '1,500', '1,300', '199', '80', '1,100', '160',\n",
       "       '1,600', '230', '130', '1,700', '1,400', '1,350', '2,200', '2,000',\n",
       "       '1,800', '1,900', '180', '330', '2,500', '2,100', '3,000', '2,800',\n",
       "       '3,400', '50', '40', '1,250', '3,500', '4,000', '2,400', '2,600',\n",
       "       '1,450', '70', '3,200', '560', '240', '360', '6,000', '1,050',\n",
       "       '2,300', '4,100', '120', '5,000', '3,700', '1,650', '2,700',\n",
       "       '4,500'], dtype=object)"
      ]
     },
     "execution_count": 122,
     "metadata": {},
     "output_type": "execute_result"
    }
   ],
   "source": [
    "df['Cost2plates'].unique()"
   ]
  },
  {
   "cell_type": "markdown",
   "id": "c8c9109a-204f-40ab-98a3-dff938df547b",
   "metadata": {},
   "source": [
    "SINCE HAVING A ',' IN NUMBER MORE THAN 3 DIGITS WILL CAUSE ERROR IN PLOTTING WE REMOVE IT  USING handlecomma() FUNCTION.\n",
    "="
   ]
  },
  {
   "cell_type": "code",
   "execution_count": 123,
   "id": "09865986-9e06-4337-ac2b-c452e358f81f",
   "metadata": {
    "tags": []
   },
   "outputs": [
    {
     "name": "stdout",
     "output_type": "stream",
     "text": [
      "4SF20CI021\n"
     ]
    }
   ],
   "source": [
    "def handlecomma(value):\n",
    "    value = str(value)\n",
    "    if ',' in value:\n",
    "        value = value.replace(',', '')\n",
    "        return float(value)\n",
    "    else:\n",
    "        return float(value)\n",
    "    \n",
    "df['Cost2plates'] = df['Cost2plates'].apply(handlecomma)\n",
    "df['Cost2plates'].unique()\n",
    "print('4SF20CI021')"
   ]
  },
  {
   "cell_type": "markdown",
   "id": "6292e13f-5ca2-4055-951c-f7ee4d54877c",
   "metadata": {},
   "source": [
    "MOVING TO THE NEXT COLUMN i.e,'rest_type'.HERE WE CAN FIND THAT THAT VALUES RANGE A LOT ie, FROM 1 TO 1000+.HENCE LETS MAKE THAT COUNT AS 'OTHERS' WHOSE VALUE IS LESS THAN 1000 USING handle_rest_type\n",
    "="
   ]
  },
  {
   "cell_type": "code",
   "execution_count": 124,
   "id": "48ba01f5-a3ff-4ccc-835d-b4fab7a67c83",
   "metadata": {
    "tags": []
   },
   "outputs": [
    {
     "data": {
      "text/plain": [
       "Quick Bites                   10143\n",
       "Casual Dining                  7311\n",
       "Cafe                           2495\n",
       "Dessert Parlor                 1357\n",
       "Delivery                       1117\n",
       "                              ...  \n",
       "Dessert Parlor, Kiosk             2\n",
       "Bakery, Food Court                2\n",
       "Food Court, Beverage Shop         2\n",
       "Quick Bites, Kiosk                1\n",
       "Dessert Parlor, Food Court        1\n",
       "Name: rest_type, Length: 87, dtype: int64"
      ]
     },
     "execution_count": 124,
     "metadata": {},
     "output_type": "execute_result"
    }
   ],
   "source": [
    "rest_types = df['rest_type'].value_counts(ascending  = False)\n",
    "rest_types"
   ]
  },
  {
   "cell_type": "code",
   "execution_count": 125,
   "id": "1dfb164c-a553-4744-a764-f562c9a88f1a",
   "metadata": {
    "tags": []
   },
   "outputs": [
    {
     "name": "stdout",
     "output_type": "stream",
     "text": [
      "4SF20CI021\n"
     ]
    }
   ],
   "source": [
    "rest_types_lessthan1000 = rest_types[rest_types<1000]\n",
    "rest_types_lessthan1000\n",
    "print('4SF20CI021')"
   ]
  },
  {
   "cell_type": "code",
   "execution_count": 126,
   "id": "4384865b-e286-4b75-a0e4-8e4f3c290f10",
   "metadata": {
    "tags": []
   },
   "outputs": [
    {
     "data": {
      "text/plain": [
       "Quick Bites       10143\n",
       "others             8535\n",
       "Casual Dining      7311\n",
       "Cafe               2495\n",
       "Dessert Parlor     1357\n",
       "Delivery           1117\n",
       "Name: rest_type, dtype: int64"
      ]
     },
     "execution_count": 126,
     "metadata": {},
     "output_type": "execute_result"
    }
   ],
   "source": [
    "def handle_rest_type(value):\n",
    "    if(value in rest_types_lessthan1000):\n",
    "        return 'others'\n",
    "    else:\n",
    "        return value\n",
    "        \n",
    "df['rest_type'] = df['rest_type'].apply(handle_rest_type)\n",
    "df['rest_type'].value_counts()"
   ]
  },
  {
   "cell_type": "markdown",
   "id": "6489c540-85bc-404e-aff3-4bef207aa2c9",
   "metadata": {},
   "source": [
    "SIMILARLY,WITH 'LOCATION' COLUMN VALES LESS THAN 300 IS CHANGED TO 'OTHERS'. AND IN 'CUISINE' COLUMN IF IT IS LESS THAN 100\n",
    "="
   ]
  },
  {
   "cell_type": "code",
   "execution_count": 127,
   "id": "d0947a61-02ef-492d-953e-00e6d4506c6a",
   "metadata": {
    "tags": []
   },
   "outputs": [
    {
     "name": "stdout",
     "output_type": "stream",
     "text": [
      "4SF20CI021\n"
     ]
    }
   ],
   "source": [
    "location = df['location'].value_counts(ascending  = False)\n",
    "\n",
    "location_lessthan300 = location[location<300]\n",
    "\n",
    "\n",
    "\n",
    "def handle_location(value):\n",
    "    if(value in location_lessthan300):\n",
    "        return 'others'\n",
    "    else:\n",
    "        return value\n",
    "        \n",
    "df['location'] = df['location'].apply(handle_location)\n",
    "df['location'].value_counts()\n",
    "print('4SF20CI021')"
   ]
  },
  {
   "cell_type": "code",
   "execution_count": 128,
   "id": "caff7eaf-2609-48f1-beb7-dacb1018c567",
   "metadata": {
    "tags": []
   },
   "outputs": [
    {
     "name": "stdout",
     "output_type": "stream",
     "text": [
      "4SF20CI021\n"
     ]
    }
   ],
   "source": [
    "cuisines = df['cuisines'].value_counts(ascending  = False)\n",
    "\n",
    "\n",
    "cuisines_lessthan100 = cuisines[cuisines<100]\n",
    "\n",
    "\n",
    "\n",
    "def handle_cuisines(value):\n",
    "    if(value in cuisines_lessthan100):\n",
    "        return 'others'\n",
    "    else:\n",
    "        return value\n",
    "        \n",
    "df['cuisines'] = df['cuisines'].apply(handle_cuisines)\n",
    "df['cuisines'].value_counts()\n",
    "print('4SF20CI021')"
   ]
  },
  {
   "cell_type": "markdown",
   "id": "6cc184ec-1350-4ae3-b3e8-e419ab3d4a1f",
   "metadata": {},
   "source": [
    "DATA IS CLEAN NOW...HENCE NOW WE CAN USE IT FOR FURTHER  ANALYSIS.\n",
    "="
   ]
  }
 ],
 "metadata": {
  "kernelspec": {
   "display_name": "Python 3 (ipykernel)",
   "language": "python",
   "name": "python3"
  },
  "language_info": {
   "codemirror_mode": {
    "name": "ipython",
    "version": 3
   },
   "file_extension": ".py",
   "mimetype": "text/x-python",
   "name": "python",
   "nbconvert_exporter": "python",
   "pygments_lexer": "ipython3",
   "version": "3.10.8"
  }
 },
 "nbformat": 4,
 "nbformat_minor": 5
}
